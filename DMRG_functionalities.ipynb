{
 "cells": [
  {
   "cell_type": "code",
   "execution_count": 1,
   "metadata": {},
   "outputs": [],
   "source": [
    "# Linear Algebra\n",
    "import numpy as np\n",
    "from scipy.linalg import svd\n",
    "from numpy.linalg import qr\n",
    "import scipy.sparse.linalg.eigen.arpack as arp\n",
    "\n",
    "# Python Plotting\n",
    "from matplotlib import pyplot as plt\n",
    "\n",
    "# Own modules\n",
    "from DMRG import * # here is the main part of the DMRG code\n",
    "\n",
    "# we'll need them a lot\n",
    "sxx = np.array([[0., 1.], [1., 0.]])\n",
    "syy = np.array([[0., -1j], [1j, 0.]])\n",
    "szz = np.array([[1., 0.], [0., -1.]])"
   ]
  },
  {
   "cell_type": "markdown",
   "metadata": {},
   "source": [
    "# DMRG on the transverse nearest neighbor Ising model\n",
    "\n",
    "I implement the density matrix renormalization group algorithm (DMRG) for matrix product states (MPS).  \n",
    "Exemplarly I use the transverse nearest neighbor Ising model  \n",
    "$$\n",
    "H = - J \\sum_{i=0}^{L-2} \\sigma^x_i \\sigma^x_{i+1} - g \\sum_{i=0}^{L-1} \\sigma^z_i\n",
    "$$\n",
    "We compare for small number of sites $L<20$ to exact diagonalization of the Hamiltonian"
   ]
  },
  {
   "cell_type": "markdown",
   "metadata": {},
   "source": [
    "## MPS\n",
    "First we need to define an MPS class and initialize a random MPS\n",
    "This function is defined in <DMRG.py> and looks something like this  "
   ]
  },
  {
   "cell_type": "code",
   "execution_count": 2,
   "metadata": {},
   "outputs": [
    {
     "name": "stdout",
     "output_type": "stream",
     "text": [
      "Help on class random_MPS in module DMRG:\n",
      "\n",
      "class random_MPS(builtins.object)\n",
      " |  random_MPS(L, d, chi_max)\n",
      " |  \n",
      " |  Initializes a random, finite dimensional, unnormalized MPS\n",
      " |  \n",
      " |  \n",
      " |  Parameters\n",
      " |  ------------\n",
      " |  L: Number of Sites\n",
      " |  d: local Hilbert space dimension (Schollwöck: sigma_j = 1,..,d)\n",
      " |  chi: local bond dimension (Schollwöch: DxD matrices)\n",
      " |  \n",
      " |  attributes:\n",
      " |  Ms: list of L ndim=3 tensors M with indices Ms[j]: sigma_j, vL, vR\n",
      " |  Ss: list of L ndim=1 lists with the Schmidt values\n",
      " |  L: number of sites\n",
      " |  chi: list of bond dimensions, -chi(i-1)--Ms[i]--chi(i)--Ms[i+1]--..\n",
      " |  normstat = None, 'left-norm', 'right-norm'\n",
      " |  \n",
      " |  Methods defined here:\n",
      " |  \n",
      " |  __init__(self, L, d, chi_max)\n",
      " |      Initialize self.  See help(type(self)) for accurate signature.\n",
      " |  \n",
      " |  get_Mi(self, i)\n",
      " |  \n",
      " |  left_normalize(self, test=False)\n",
      " |      returns a left_normalized version of the random_MPS() object using QR\n",
      " |  \n",
      " |  right_normalize(self, test=False)\n",
      " |      returns a right_normalized version of the random_MPS() object\n",
      " |      \n",
      " |      new version using QR\n",
      " |  \n",
      " |  self_norm(self)\n",
      " |      calculate the norm of the MPS\n",
      " |  \n",
      " |  ----------------------------------------------------------------------\n",
      " |  Data descriptors defined here:\n",
      " |  \n",
      " |  __dict__\n",
      " |      dictionary for instance variables (if defined)\n",
      " |  \n",
      " |  __weakref__\n",
      " |      list of weak references to the object (if defined)\n",
      "\n"
     ]
    }
   ],
   "source": [
    "help(random_MPS)"
   ]
  },
  {
   "cell_type": "markdown",
   "metadata": {},
   "source": [
    "The MPS basically consist of the list Ms that containts the ndim=3 arrays at each site. The legs are ordered $a_{i-1}, s_i, a_i$ (virtual left, physical, virtual right)  \n",
    "Sites are labeled from $0$ to $L-1$  "
   ]
  },
  {
   "cell_type": "code",
   "execution_count": 3,
   "metadata": {},
   "outputs": [
    {
     "data": {
      "text/plain": [
       "[(1, 3, 3),\n",
       " (3, 3, 5),\n",
       " (5, 3, 5),\n",
       " (5, 3, 5),\n",
       " (5, 3, 5),\n",
       " (5, 3, 5),\n",
       " (5, 3, 5),\n",
       " (5, 3, 5),\n",
       " (5, 3, 3),\n",
       " (3, 3, 1)]"
      ]
     },
     "execution_count": 3,
     "metadata": {},
     "output_type": "execute_result"
    }
   ],
   "source": [
    "randmps = random_MPS(L=10,d=3,chi_max=5)\n",
    "[randmps.Ms[i].shape for i in range(10)]"
   ]
  },
  {
   "cell_type": "code",
   "execution_count": 4,
   "metadata": {},
   "outputs": [
    {
     "data": {
      "text/plain": [
       "[(1, 3, 3),\n",
       " (3, 3, 9),\n",
       " (9, 3, 27),\n",
       " (27, 3, 81),\n",
       " (81, 3, 243),\n",
       " (243, 3, 81),\n",
       " (81, 3, 27),\n",
       " (27, 3, 9),\n",
       " (9, 3, 3),\n",
       " (3, 3, 1)]"
      ]
     },
     "execution_count": 4,
     "metadata": {},
     "output_type": "execute_result"
    }
   ],
   "source": [
    "randmps = random_MPS(L=10,d=3,chi_max=500)\n",
    "[randmps.Ms[i].shape for i in range(10)]"
   ]
  },
  {
   "cell_type": "markdown",
   "metadata": {},
   "source": [
    "## MPO\n",
    "The MPO basically consists of the list Ws that contains the ndim=4 arrays at each site.  \n",
    "The indices are set as $b_{i-1}, b_i, \\sigma_i, \\sigma'_i$  \n",
    "For the transverse Ising model the matrices read\n",
    "$$\n",
    "W_{b_{i-1} b_i} = \\begin{pmatrix}\n",
    "\\mathbb{I} & \\sigma^x & - g \\sigma^z \\\\\n",
    "0 & 0 & - J \\sigma^x \\\\\n",
    "0 & 0 & \\mathbb{I} \\\\\n",
    "\\end{pmatrix}\n",
    "$$\n",
    "The left row vector is the top row and the right column vector is the right column."
   ]
  },
  {
   "cell_type": "code",
   "execution_count": 5,
   "metadata": {},
   "outputs": [
    {
     "name": "stdout",
     "output_type": "stream",
     "text": [
      "Help on class Ising_MPO in module DMRG:\n",
      "\n",
      "class Ising_MPO(builtins.object)\n",
      " |  Ising_MPO(L, d, h, J)\n",
      " |  \n",
      " |  Transverse Ising field Hamiltonian\n",
      " |  H = -J \\sum_i \\sigma_i^x \\sigma_{i+1}^x - h \\sum_i \\sigma_i^z\n",
      " |  \n",
      " |  Methods defined here:\n",
      " |  \n",
      " |  __init__(self, L, d, h, J)\n",
      " |      Initialize self.  See help(type(self)) for accurate signature.\n",
      " |  \n",
      " |  init_W(self)\n",
      " |  \n",
      " |  ----------------------------------------------------------------------\n",
      " |  Data descriptors defined here:\n",
      " |  \n",
      " |  __dict__\n",
      " |      dictionary for instance variables (if defined)\n",
      " |  \n",
      " |  __weakref__\n",
      " |      list of weak references to the object (if defined)\n",
      "\n"
     ]
    }
   ],
   "source": [
    "help(Ising_MPO)"
   ]
  },
  {
   "cell_type": "code",
   "execution_count": 6,
   "metadata": {},
   "outputs": [
    {
     "data": {
      "text/plain": [
       "[(1, 3, 2, 2),\n",
       " (3, 3, 2, 2),\n",
       " (3, 3, 2, 2),\n",
       " (3, 3, 2, 2),\n",
       " (3, 3, 2, 2),\n",
       " (3, 3, 2, 2),\n",
       " (3, 3, 2, 2),\n",
       " (3, 3, 2, 2),\n",
       " (3, 3, 2, 2),\n",
       " (3, 1, 2, 2)]"
      ]
     },
     "execution_count": 6,
     "metadata": {},
     "output_type": "execute_result"
    }
   ],
   "source": [
    "isingmpo = Ising_MPO(L=10,d=2,h=0.5,J=1.0)\n",
    "[isingmpo.Ws[i].shape for i in range(10)]"
   ]
  },
  {
   "cell_type": "markdown",
   "metadata": {},
   "source": [
    "## DMRG\n",
    "Now I create an abstract class that acts as my DMRG engine and takes care of all the quantities needed for the algorithm, i.e. the MPS, the LP and the RP"
   ]
  },
  {
   "cell_type": "code",
   "execution_count": 7,
   "metadata": {},
   "outputs": [
    {
     "name": "stdout",
     "output_type": "stream",
     "text": [
      "Help on class DMRG in module DMRG:\n",
      "\n",
      "class DMRG(builtins.object)\n",
      " |  DMRG(MPS, MPO, eps=1e-10, chi_max=None, test=False)\n",
      " |  \n",
      " |  Abstract DMRG engine class\n",
      " |  \n",
      " |  attributes:\n",
      " |  MPS*: the current MPS\n",
      " |  MPO: the model MPO\n",
      " |  RPs*: the current RPs\n",
      " |  LPs*: the current LPs\n",
      " |  (*): get regular updates\n",
      " |  \n",
      " |  LPs[i] is LP left site i, i.e. LPs[0] is dummy and LPs[-1] = LPs[L-1] is everything but the last\n",
      " |  RPs[i] is RP right of site i, i.e. RPs[-1]=RPs[L-1] is dummy and RPs[0] is everything but the first\n",
      " |  \n",
      " |  Parameters:\n",
      " |  MPS: object, matrix product state\n",
      " |  MPO: object, matrix product operator\n",
      " |  eps: float, epsilon determining the threshold of which singular values to keep, standard set to 10^-10\n",
      " |  chi_max: int, maximal bond dimension of system\n",
      " |  test: for debugging, prints things like Ms.shape, norm, singular values etc. during sweep\n",
      " |  \n",
      " |  Methods defined here:\n",
      " |  \n",
      " |  __init__(self, MPS, MPO, eps=1e-10, chi_max=None, test=False)\n",
      " |      Initialize self.  See help(type(self)) for accurate signature.\n",
      " |  \n",
      " |  left_to_right(self, eps=None, chi_max=None)\n",
      " |      Runs through the MPS from left to right\n",
      " |  \n",
      " |  next_LP(self, i)\n",
      " |      short version: LP[i] |-> LP[i+1] # Remember: LP[i] inlcudes everythings EXCEPT i -> need to add the contributions at site i\n",
      " |      \n",
      " |      extend LP from site i to the next site i+1 \n",
      " |      .------a_j-1----M[j]--a_j\n",
      " |       |               |\n",
      " |      LP[j]--b_j-1----W[j]--b_j\n",
      " |       |               |\n",
      " |      .-----a'_j-1---M*[j]--a'_j\n",
      " |      \n",
      " |      next_LP(i): takes LPs[i] and contracts with the (right-) following M[i] ,W[i] and M*[i]\n",
      " |      \n",
      " |      result: np.array[ndim=3] # a_i b_i  a'_i\n",
      " |  \n",
      " |  next_RP(self, i)\n",
      " |      short version: RP[i] |-> RP[i-1]\n",
      " |      \n",
      " |      extend LP from site i to the next site i+1 \n",
      " |      --a_j-1----M*[j]--a_j----.\n",
      " |                 |            |\n",
      " |      --b_j-1----W[j]--b_j---RP[j]\n",
      " |                 |            |\n",
      " |      --a'_j-1---M[j]--a'_j--.\n",
      " |      \n",
      " |      next_LP(i): takes RPs[i] and contracts with the (left-)following M[i] ,W[i] and M*[i]\n",
      " |      \n",
      " |      result: np.array[ndim=3] # a_i b_i  a'_i\n",
      " |  \n",
      " |  right_to_left(self, eps=None, chi_max=None)\n",
      " |      Runs through the MPS from right to left\n",
      " |  \n",
      " |  site_update(self, i)\n",
      " |      Solves the Eigenvalue problem H_eff v = E v\n",
      " |      \n",
      " |      Returns updated matrix M\n",
      " |  \n",
      " |  ----------------------------------------------------------------------\n",
      " |  Data descriptors defined here:\n",
      " |  \n",
      " |  __dict__\n",
      " |      dictionary for instance variables (if defined)\n",
      " |  \n",
      " |  __weakref__\n",
      " |      list of weak references to the object (if defined)\n",
      "\n"
     ]
    }
   ],
   "source": [
    "help(DMRG)"
   ]
  },
  {
   "cell_type": "code",
   "execution_count": 8,
   "metadata": {},
   "outputs": [],
   "source": [
    "init_mps = random_MPS(L=10,d=2,chi_max=1000)\n",
    "mpo = Ising_MPO(L=10,d=2,h=0.7,J=0.3)\n",
    "dmrg = DMRG(init_mps,mpo,eps=-1.,chi_max=1000,test=False)"
   ]
  },
  {
   "cell_type": "markdown",
   "metadata": {},
   "source": [
    "A full sweep is performed by going left-to-right and then right-to-left again  \n",
    "The engine initially right-normalizes the state  \n",
    "(also note that the dmrg engine is manipulating the mps instance itself!)"
   ]
  },
  {
   "cell_type": "code",
   "execution_count": 9,
   "metadata": {},
   "outputs": [
    {
     "name": "stdout",
     "output_type": "stream",
     "text": [
      "None\n"
     ]
    }
   ],
   "source": [
    "init_mps = random_MPS(L=10,d=2,chi_max=1000)\n",
    "print(init_mps.normstat)"
   ]
  },
  {
   "cell_type": "code",
   "execution_count": 10,
   "metadata": {},
   "outputs": [],
   "source": [
    "dmrg = DMRG(init_mps,mpo,eps=-1.,chi_max=1000,test=False)"
   ]
  },
  {
   "cell_type": "code",
   "execution_count": 11,
   "metadata": {},
   "outputs": [
    {
     "name": "stdout",
     "output_type": "stream",
     "text": [
      "right-norm\n"
     ]
    }
   ],
   "source": [
    "print(init_mps.normstat)"
   ]
  },
  {
   "cell_type": "markdown",
   "metadata": {},
   "source": [
    "After a left-to-right (l2r) sweep all matrices become left-normalized, the engine fixes the status after l2r"
   ]
  },
  {
   "cell_type": "code",
   "execution_count": 12,
   "metadata": {},
   "outputs": [
    {
     "name": "stdout",
     "output_type": "stream",
     "text": [
      "left-norm\n"
     ]
    }
   ],
   "source": [
    "dmrg.left_to_right()\n",
    "print(init_mps.normstat)"
   ]
  },
  {
   "cell_type": "markdown",
   "metadata": {},
   "source": [
    "(actually before doing a l2r or r2l sweep the engine checks the *normstat* of the MPS, pretty clever huh)"
   ]
  },
  {
   "cell_type": "code",
   "execution_count": 13,
   "metadata": {},
   "outputs": [
    {
     "ename": "AssertionError",
     "evalue": "",
     "output_type": "error",
     "traceback": [
      "\u001b[0;31m---------------------------------------------------------------------------\u001b[0m",
      "\u001b[0;31mAssertionError\u001b[0m                            Traceback (most recent call last)",
      "\u001b[0;32m<ipython-input-13-d8302ed417c1>\u001b[0m in \u001b[0;36m<module>\u001b[0;34m()\u001b[0m\n\u001b[0;32m----> 1\u001b[0;31m \u001b[0mdmrg\u001b[0m\u001b[0;34m.\u001b[0m\u001b[0mleft_to_right\u001b[0m\u001b[0;34m(\u001b[0m\u001b[0;34m)\u001b[0m\u001b[0;34m\u001b[0m\u001b[0m\n\u001b[0m",
      "\u001b[0;32m~/Dropbox/000 PhD/Machine-Tensor/Korb_Eman_Ang/DMRG_Binz_Code/DMRG.py\u001b[0m in \u001b[0;36mleft_to_right\u001b[0;34m(self, eps, chi_max)\u001b[0m\n\u001b[1;32m    312\u001b[0m         \u001b[0;31m# Pseudo code\u001b[0m\u001b[0;34m\u001b[0m\u001b[0;34m\u001b[0m\u001b[0m\n\u001b[1;32m    313\u001b[0m         \u001b[0;31m# start from right-normalized state BBBB..\u001b[0m\u001b[0;34m\u001b[0m\u001b[0;34m\u001b[0m\u001b[0m\n\u001b[0;32m--> 314\u001b[0;31m         \u001b[0;32massert\u001b[0m \u001b[0mself\u001b[0m\u001b[0;34m.\u001b[0m\u001b[0mMPS\u001b[0m\u001b[0;34m.\u001b[0m\u001b[0mnormstat\u001b[0m \u001b[0;34m==\u001b[0m \u001b[0;34m'right-norm'\u001b[0m\u001b[0;34m\u001b[0m\u001b[0m\n\u001b[0m\u001b[1;32m    315\u001b[0m         \u001b[0;32mif\u001b[0m \u001b[0mself\u001b[0m\u001b[0;34m.\u001b[0m\u001b[0mtest\u001b[0m\u001b[0;34m:\u001b[0m\u001b[0;34m\u001b[0m\u001b[0m\n\u001b[1;32m    316\u001b[0m             \u001b[0mprint\u001b[0m\u001b[0;34m(\u001b[0m\u001b[0;34m'the initial norm is'\u001b[0m\u001b[0;34m,\u001b[0m \u001b[0mself\u001b[0m\u001b[0;34m.\u001b[0m\u001b[0mMPS\u001b[0m\u001b[0;34m.\u001b[0m\u001b[0mself_norm\u001b[0m\u001b[0;34m(\u001b[0m\u001b[0;34m)\u001b[0m\u001b[0;34m)\u001b[0m\u001b[0;34m\u001b[0m\u001b[0m\n",
      "\u001b[0;31mAssertionError\u001b[0m: "
     ]
    }
   ],
   "source": [
    "dmrg.left_to_right()"
   ]
  },
  {
   "cell_type": "code",
   "execution_count": 16,
   "metadata": {},
   "outputs": [],
   "source": [
    "dmrg.right_to_left()"
   ]
  },
  {
   "cell_type": "markdown",
   "metadata": {},
   "source": [
    "Some important subtleties:  \n",
    "LPs and RPs have length L while LPs[0] = RPs[-1] = ones(1,1,1) is the dummy. Therefore neither contains the full contraction at any time and LP[i] and RP[i] are EXCLUDING site i!"
   ]
  },
  {
   "cell_type": "code",
   "execution_count": 25,
   "metadata": {},
   "outputs": [
    {
     "name": "stdout",
     "output_type": "stream",
     "text": [
      "[(1, 1, 1), (2, 3, 2), (4, 3, 4), (8, 3, 8), (16, 3, 16), (32, 3, 32), (16, 3, 16), (8, 3, 8), (4, 3, 4), (2, 3, 2)]\n",
      "[(2, 3, 2), (4, 3, 4), (8, 3, 8), (16, 3, 16), (32, 3, 32), (16, 3, 16), (8, 3, 8), (4, 3, 4), (2, 3, 2), (1, 1, 1)]\n"
     ]
    }
   ],
   "source": [
    "print([dmrg.LPs[i].shape for i in range(10)])\n",
    "print([dmrg.RPs[i].shape for i in range(10)])"
   ]
  },
  {
   "cell_type": "markdown",
   "metadata": {},
   "source": [
    "### Eigenenergies\n",
    "At each step in l2r or r2l the engine calculates a new, better matrix and then right- or left-normalizes it.  \n",
    "The *better* matrix is obtained from solving the Eigenvalue problem of the effective Hamiltonian at site i  \n",
    "$$\n",
    "\\sum_{\\sigma'_l,a'_{l-1},a'_l} \\left(H_\\text{eff}\\right)^{\\sigma_l \\sigma'_l}_{a_{l-1} a'_{l-1} a_l a'_l} M^{\\sigma'_l}_{a'_{l-1},a'_l} = \\lambda M^{\\sigma_l}_{a_{l-1},a_l}\n",
    "$$\n",
    "where\n",
    "$$\n",
    "\\left(H_\\text{eff}\\right)^{\\sigma_l \\sigma'_l}_{a_{l-1} a'_{l-1} a_l a'_l} = \\sum_{b_{l-1},b_l} L^{a_{l-1} a'_{l-1}}_{b_{l-1}} W^{\\sigma_l \\sigma'_l}_{b_{l-1} b_l} R^{a_l a'_l}_{b_l}\n",
    "$$\n",
    "\n",
    "which graphically is represented by  \n",
    "![visualization of eigenproblem](img/eigenproblem.png)  \n",
    "(see Schollwöck chap 6)  \n",
    "We are solving for the circled matrix M  \n",
    "The Eigenvalue $\\lambda$ on the other hand corresponds to the curent ground state energy and is saved (appended to) into ```dmrg.e```"
   ]
  },
  {
   "cell_type": "code",
   "execution_count": 17,
   "metadata": {},
   "outputs": [],
   "source": [
    "step_es = np.array(dmrg.e)"
   ]
  },
  {
   "cell_type": "code",
   "execution_count": 18,
   "metadata": {},
   "outputs": [
    {
     "data": {
      "text/plain": [
       "<matplotlib.legend.Legend at 0x7f92f50b9ef0>"
      ]
     },
     "execution_count": 18,
     "metadata": {},
     "output_type": "execute_result"
    },
    {
     "data": {
      "image/png": "[encoded data removed]",
      "text/plain": [
       "<Figure size 720x432 with 1 Axes>"
      ]
     },
     "metadata": {
      "needs_background": "light"
     },
     "output_type": "display_data"
    }
   ],
   "source": [
    "fig, axes = plt.subplots(nrows=1, ncols=1,figsize=(10,6))\n",
    "\n",
    "ax=axes\n",
    "ax.plot(step_es,'.--',label='exact E')\n",
    "ax.set(xlabel='# individual sites', ylabel='\\\\lambda',\n",
    "       title='Live ground state Energies')\n",
    "ax.legend()"
   ]
  },
  {
   "cell_type": "markdown",
   "metadata": {},
   "source": [
    "## Exact Diagonalization\n",
    "This part is copy-paste from TeNPy toycodes (https://github.com/tenpy/tenpy) and provides the exact diagonalization of the same transverse Ising Hamiltonian"
   ]
  },
  {
   "cell_type": "code",
   "execution_count": 19,
   "metadata": {},
   "outputs": [],
   "source": [
    "\"\"\"Provides exact ground state energies for the transverse field ising model for comparison.\n",
    "\n",
    "The Hamiltonian reads\n",
    ".. math ::\n",
    "    H = - J \\\\sum_{i} \\\\sigma^x_i \\\\sigma^x_{i+1} - g \\\\sum_{i} \\\\sigma^z_i\n",
    "\"\"\"\n",
    "import numpy as np\n",
    "import scipy.sparse as sparse\n",
    "import scipy.sparse.linalg.eigen.arpack as arp\n",
    "import warnings\n",
    "import scipy.integrate\n",
    "\n",
    "\n",
    "def exact_E(L, J, g):\n",
    "    \"\"\"For comparison: obtain ground state energy from exact diagonalization.\n",
    "\n",
    "    Exponentially expensive in L, only works for small enough `L` <~ 20.\n",
    "    \"\"\"\n",
    "    if L >= 20:\n",
    "        warnings.warn(\"Large L: Exact diagonalization might take a long time!\")\n",
    "    # get single site operaors\n",
    "    sx = sparse.csr_matrix(np.array([[0., 1.], [1., 0.]]))\n",
    "    sz = sparse.csr_matrix(np.array([[1., 0.], [0., -1.]]))\n",
    "    id = sparse.csr_matrix(np.eye(2))\n",
    "    sx_list = []  # sx_list[i] = kron([id, id, ..., id, sx, id, .... id])\n",
    "    sz_list = []\n",
    "    for i_site in range(L):\n",
    "        x_ops = [id] * L\n",
    "        z_ops = [id] * L\n",
    "        x_ops[i_site] = sx\n",
    "        z_ops[i_site] = sz\n",
    "        X = x_ops[0]\n",
    "        Z = z_ops[0]\n",
    "        for j in range(1, L):\n",
    "            X = sparse.kron(X, x_ops[j], 'csr')\n",
    "            Z = sparse.kron(Z, z_ops[j], 'csr')\n",
    "        sx_list.append(X)\n",
    "        sz_list.append(Z)\n",
    "    H_xx = sparse.csr_matrix((2**L, 2**L))\n",
    "    H_z = sparse.csr_matrix((2**L, 2**L))\n",
    "    for i in range(L - 1):\n",
    "        H_xx = H_xx + sx_list[i] * sx_list[(i + 1) % L]\n",
    "    for i in range(L):\n",
    "        H_z = H_z + sz_list[i]\n",
    "    H = -J * H_xx - g * H_z\n",
    "    E, V = arp.eigsh(H, k=1, which='SA', return_eigenvectors=True, ncv=20)\n",
    "    return E[0]"
   ]
  },
  {
   "cell_type": "markdown",
   "metadata": {},
   "source": [
    "## Plotting\n",
    "Now we compare the results and see that they match perfectly  \n",
    "We write a brute force function that calculates the GS energy via DMRG within some confidence (to know when it is *close enough* to the GS energy. Here in this example one full sweep is already enough usually (put test=True to see how many sweeps it needs each time)"
   ]
  },
  {
   "cell_type": "code",
   "execution_count": 20,
   "metadata": {},
   "outputs": [],
   "source": [
    "def dmrg_E(L,J,g,conf=1e-4,test=False):\n",
    "    # Initialize random MPS and MPO\n",
    "    init_mps = random_MPS(L=L,d=2,chi_max=100)\n",
    "    mpo = Ising_MPO(L=L,d=2,h=g,J=J)\n",
    "    dmrg = DMRG(init_mps,mpo,eps=-1.,chi_max=100,test=False)\n",
    "    \n",
    "    diff = 5.*conf\n",
    "    counter = 0\n",
    "    while diff > conf:\n",
    "        if test:\n",
    "            print(counter)\n",
    "        counter += 1\n",
    "        ### note: we could also simply use the current dmrg.e value to speed things up. This is just to give justification to the expect_mpo(mps,mpo) function\n",
    "        e_in = expect_mpo(dmrg.MPS,mpo)\n",
    "        dmrg.left_to_right()\n",
    "        dmrg.right_to_left()\n",
    "        e_end = expect_mpo(dmrg.MPS,mpo)\n",
    "        diff = abs(e_in - e_end)\n",
    "        if counter > 50:\n",
    "            break\n",
    "    return dmrg.e[-1]"
   ]
  },
  {
   "cell_type": "code",
   "execution_count": 21,
   "metadata": {},
   "outputs": [],
   "source": [
    "gs = np.linspace(0.,2.,20)\n",
    "dmrg_Es = np.array([dmrg_E(L=10,g=g,J=1.) for g in gs])\n",
    "exact_Es = np.array([exact_E(L=10,g=g,J=1.) for g in gs])"
   ]
  },
  {
   "cell_type": "code",
   "execution_count": 23,
   "metadata": {},
   "outputs": [
    {
     "data": {
      "text/plain": [
       "<matplotlib.legend.Legend at 0x7f92e7bd9d68>"
      ]
     },
     "execution_count": 23,
     "metadata": {},
     "output_type": "execute_result"
    },
    {
     "data": {
      "image/png": "[encoded data removed]",
      "text/plain": [
       "<Figure size 720x432 with 1 Axes>"
      ]
     },
     "metadata": {
      "needs_background": "light"
     },
     "output_type": "display_data"
    }
   ],
   "source": [
    "fig, axes = plt.subplots(nrows=1, ncols=1,figsize=(10,6))\n",
    "\n",
    "ax=axes\n",
    "ax.plot(gs,exact_Es,'.--',label='exact E')\n",
    "ax.plot(gs,dmrg_Es,'X',label='DMRG E')\n",
    "ax.set(xlabel='g', ylabel='E',\n",
    "       title='Ground state Energies')\n",
    "ax.legend()"
   ]
  },
  {
   "cell_type": "markdown",
   "metadata": {},
   "source": [
    "We see that the results match perfectly so I assume the algorithm is working (in principle at least)"
   ]
  },
  {
   "cell_type": "code",
   "execution_count": null,
   "metadata": {},
   "outputs": [],
   "source": []
  }
 ],
 "metadata": {
  "kernelspec": {
   "display_name": "Python 3",
   "language": "python",
   "name": "python3"
  },
  "language_info": {
   "codemirror_mode": {
    "name": "ipython",
    "version": 3
   },
   "file_extension": ".py",
   "mimetype": "text/x-python",
   "name": "python",
   "nbconvert_exporter": "python",
   "pygments_lexer": "ipython3",
   "version": "3.7.0"
  }
 },
 "nbformat": 4,
 "nbformat_minor": 2
}
